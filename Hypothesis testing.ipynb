{
 "cells": [
  {
   "cell_type": "code",
   "execution_count": 4,
   "id": "6ed836f2",
   "metadata": {},
   "outputs": [
    {
     "name": "stdout",
     "output_type": "stream",
     "text": [
      "Null Hypothesis: The restaurant owners' weekly operating costs follow the theoretical model.\n",
      " The given model holds true OR is accurate\n",
      "Alternative Hypothesis: The restaurant owners' weekly operating costs does not follow the theoretical model.\n",
      " The given model does not hold true OR is inaccurate\n"
     ]
    }
   ],
   "source": [
    "null=(\"Null Hypothesis: The restaurant owners' weekly operating costs follow the theoretical model.\\n The given model holds true OR is accurate\")\n",
    "print(null)\n",
    "alt=(\"Alternative Hypothesis: The restaurant owners' weekly operating costs does not follow the theoretical model.\\n The given model does not hold true OR is inaccurate\")\n",
    "print(alt)"
   ]
  },
  {
   "cell_type": "code",
   "execution_count": 6,
   "id": "79c30b41",
   "metadata": {},
   "outputs": [
    {
     "data": {
      "text/plain": [
       "-38.0"
      ]
     },
     "execution_count": 6,
     "metadata": {},
     "output_type": "execute_result"
    }
   ],
   "source": [
    "import math\n",
    "units=600\n",
    "xbar=3050\n",
    "mu=1000+5*units\n",
    "sig=5*25\n",
    "n=25\n",
    "nsqr=math.sqrt(n)\n",
    "t=(xbar-mu)/(sig/nsqr)\n",
    "t"
   ]
  },
  {
   "cell_type": "code",
   "execution_count": 8,
   "id": "37fa3845",
   "metadata": {},
   "outputs": [
    {
     "name": "stdout",
     "output_type": "stream",
     "text": [
      "Using t table, α = 0.05 value was determined\n",
      "Null hypothesis rejected\n",
      "Alternative Hypothesis: The restaurant owners' weekly operating costs does not follow the theoretical model.\n",
      " The given model does not hold true OR is inaccurate\n"
     ]
    }
   ],
   "source": [
    "print(\"Using t table, α = 0.05 value was determined\")\n",
    "critical=-1.645\n",
    "if critical<t:\n",
    "    print(\"Null Hypothesis accepted\")\n",
    "    print(null)\n",
    "else:\n",
    "    print(\"Null hypothesis rejected\")\n",
    "    print(alt)"
   ]
  },
  {
   "cell_type": "code",
   "execution_count": 9,
   "id": "76784bff",
   "metadata": {},
   "outputs": [
    {
     "name": "stdout",
     "output_type": "stream",
     "text": [
      "We conclude that the restaurant owners' claim about the increased weekly operating costs is valid\n"
     ]
    }
   ],
   "source": [
    "print(\"We conclude that the restaurant owners' claim about the increased weekly operating costs is valid\")"
   ]
  },
  {
   "cell_type": "code",
   "execution_count": null,
   "id": "d6151738",
   "metadata": {},
   "outputs": [],
   "source": []
  }
 ],
 "metadata": {
  "kernelspec": {
   "display_name": "Python 3 (ipykernel)",
   "language": "python",
   "name": "python3"
  },
  "language_info": {
   "codemirror_mode": {
    "name": "ipython",
    "version": 3
   },
   "file_extension": ".py",
   "mimetype": "text/x-python",
   "name": "python",
   "nbconvert_exporter": "python",
   "pygments_lexer": "ipython3",
   "version": "3.11.5"
  }
 },
 "nbformat": 4,
 "nbformat_minor": 5
}
